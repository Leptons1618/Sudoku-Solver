{
  "cells": [
    {
      "cell_type": "code",
      "execution_count": 8,
      "metadata": {
        "id": "KH6nKUc6HXF6"
      },
      "outputs": [
        {
          "name": "stdout",
          "output_type": "stream",
          "text": [
            "Collecting numpy\n",
            "  Using cached numpy-1.22.3-cp310-cp310-win_amd64.whl (14.7 MB)\n",
            "Installing collected packages: numpy\n",
            "Successfully installed numpy-1.22.3\n"
          ]
        },
        {
          "name": "stderr",
          "output_type": "stream",
          "text": [
            "  WARNING: The script f2py.exe is installed in 'C:\\Users\\anish\\AppData\\Local\\Packages\\PythonSoftwareFoundation.Python.3.10_qbz5n2kfra8p0\\LocalCache\\local-packages\\Python310\\Scripts' which is not on PATH.\n",
            "  Consider adding this directory to PATH or, if you prefer to suppress this warning, use --no-warn-script-location.\n"
          ]
        }
      ],
      "source": [
        "!pip3 install numpy\n",
        "import numpy as np"
      ]
    },
    {
      "cell_type": "code",
      "execution_count": 10,
      "metadata": {
        "id": "DQIQ5o1rKysj"
      },
      "outputs": [],
      "source": [
        "grid = [[5,3,0,0,7,0,0,0,0],\n",
        "        [6,0,0,1,9,5,0,0,0],\n",
        "        [0,9,8,0,0,0,0,6,0],\n",
        "        [8,0,0,0,6,0,0,0,3],\n",
        "        [4,0,0,8,0,3,0,0,1],\n",
        "        [7,0,0,0,2,0,0,0,6],\n",
        "        [0,6,0,0,0,0,2,8,0],\n",
        "        [0,0,0,0,1,9,0,0,5],\n",
        "        [0,0,0,0,0,0,0,0,0]]\n",
        "# print(\"normal grid\\n\", grid)\n",
        "# print(\"numpy grid\")\n",
        "# print(np.matrix(grid))"
      ]
    },
    {
      "cell_type": "code",
      "execution_count": 9,
      "metadata": {
        "id": "xpCbEb42MLdi"
      },
      "outputs": [],
      "source": [
        "def possible(row, column, number):\n",
        "    global grid\n",
        "    #Is the number appearing in the given row?\n",
        "    for i in range(0,9):\n",
        "        if grid[row][i] == number:\n",
        "            return False\n",
        "\n",
        "    #Is the number appearing in the given column?\n",
        "    for i in range(0,9):\n",
        "        if grid[i][column] == number:\n",
        "            return False\n",
        "    \n",
        "    #Is the number appearing in the given square?\n",
        "    x0 = (column // 3) * 3\n",
        "    y0 = (row // 3) * 3\n",
        "    for i in range(0,3):\n",
        "        for j in range(0,3):\n",
        "            if grid[y0+i][x0+j] == number:\n",
        "                return False\n",
        "\n",
        "    return True"
      ]
    },
    {
      "cell_type": "code",
      "execution_count": 11,
      "metadata": {
        "id": "pBrBAyNvMXU4"
      },
      "outputs": [],
      "source": [
        "def solve():\n",
        "    global grid\n",
        "    for row in range(0,9):\n",
        "        for column in range(0,9):\n",
        "            if grid[row][column] == 0:\n",
        "                for number in range(1,10):\n",
        "                    if possible(row, column, number):\n",
        "                        grid[row][column] = number\n",
        "                        solve()\n",
        "                        grid[row][column] = 0\n",
        "\n",
        "                return\n",
        "      \n",
        "    print(np.matrix(grid))\n",
        "    input('More possible solutions')"
      ]
    },
    {
      "cell_type": "code",
      "execution_count": 12,
      "metadata": {
        "colab": {
          "base_uri": "https://localhost:8080/"
        },
        "id": "xi5aY2rrMguN",
        "outputId": "5ad7fe48-0f96-4dcd-a411-cf3ac6eb6f87"
      },
      "outputs": [
        {
          "name": "stdout",
          "output_type": "stream",
          "text": [
            "[[5 3 4 6 7 8 1 9 2]\n",
            " [6 7 2 1 9 5 3 4 8]\n",
            " [1 9 8 3 4 2 5 6 7]\n",
            " [8 5 9 7 6 1 4 2 3]\n",
            " [4 2 6 8 5 3 9 7 1]\n",
            " [7 1 3 9 2 4 8 5 6]\n",
            " [9 6 1 5 3 7 2 8 4]\n",
            " [2 8 7 4 1 9 6 3 5]\n",
            " [3 4 5 2 8 6 7 1 9]]\n",
            "More possible solutions\n",
            "[[5 3 4 6 7 8 9 1 2]\n",
            " [6 7 2 1 9 5 3 4 8]\n",
            " [1 9 8 3 4 2 5 6 7]\n",
            " [8 5 9 7 6 1 4 2 3]\n",
            " [4 2 6 8 5 3 7 9 1]\n",
            " [7 1 3 9 2 4 8 5 6]\n",
            " [9 6 1 5 3 7 2 8 4]\n",
            " [2 8 7 4 1 9 6 3 5]\n",
            " [3 4 5 2 8 6 1 7 9]]\n",
            "More possible solutions\n"
          ]
        }
      ],
      "source": [
        "solve()"
      ]
    }
  ],
  "metadata": {
    "colab": {
      "name": "SudokuSolver.ipynb",
      "provenance": []
    },
    "kernelspec": {
      "display_name": "Python 3",
      "name": "python3"
    },
    "language_info": {
      "codemirror_mode": {
        "name": "ipython",
        "version": 3
      },
      "file_extension": ".py",
      "mimetype": "text/x-python",
      "name": "python",
      "nbconvert_exporter": "python",
      "pygments_lexer": "ipython3",
      "version": "3.10.4"
    }
  },
  "nbformat": 4,
  "nbformat_minor": 0
}
